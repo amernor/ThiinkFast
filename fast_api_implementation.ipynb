{
 "cells": [
  {
   "cell_type": "code",
   "execution_count": null,
   "id": "7b3c20a2",
   "metadata": {},
   "outputs": [],
   "source": [
    "# main.py\n",
    "from fastapi import FastAPI, WebSocket, WebSocketDisconnect\n",
    "from fastapi.staticfiles import StaticFiles\n",
    "from fastapi.responses import HTMLResponse\n",
    "import uvicorn\n",
    "from transformers import AutoTokenizer, AutoModelForSeq2SeqLM\n",
    "import asyncio\n",
    "\n",
    "app = FastAPI()\n",
    "\n",
    "# Load the tokenizer and model once at startup\n",
    "tokenizer = AutoTokenizer.from_pretrained(\"prithivida/grammar_error_correcter_v1\")\n",
    "model = AutoModelForSeq2SeqLM.from_pretrained(\"prithivida/grammar_error_correcter_v1\")\n",
    "\n",
    "# Function to correct grammar in text\n",
    "def correct_grammar(text):\n",
    "    if not text.strip():\n",
    "        return \"\"\n",
    "    \n",
    "    # Tokenize the input text\n",
    "    inputs = tokenizer(text, return_tensors=\"pt\", padding=True)\n",
    "    \n",
    "    # Generate the corrected output\n",
    "    outputs = model.generate(**inputs, max_length=100)\n",
    "    \n",
    "    # Decode the output tokens to text\n",
    "    corrected_text = tokenizer.decode(outputs[0], skip_special_tokens=True)\n",
    "    \n",
    "    return corrected_text\n",
    "\n",
    "# Serve static files\n",
    "app.mount(\"/static\", StaticFiles(directory=\"static\"), name=\"static\")\n",
    "\n",
    "@app.get(\"/\", response_class=HTMLResponse)\n",
    "async def get():\n",
    "    with open(\"static/index.html\", \"r\") as f:\n",
    "        return f.read()\n",
    "\n",
    "@app.websocket(\"/ws\")\n",
    "async def websocket_endpoint(websocket: WebSocket):\n",
    "    await websocket.accept()\n",
    "    try:\n",
    "        while True:\n",
    "            text = await websocket.receive_text()\n",
    "            # Process the text with the grammar correction model\n",
    "            corrected = correct_grammar(text)\n",
    "            # Send back the corrected text\n",
    "            await websocket.send_text(corrected)\n",
    "    except WebSocketDisconnect:\n",
    "        print(\"Client disconnected\")\n",
    "\n",
    "if __name__ == \"__main__\":\n",
    "    uvicorn.run(app, host=\"0.0.0.0\", port=8000)"
   ]
  }
 ],
 "metadata": {
  "kernelspec": {
   "display_name": "Python 3 (ipykernel)",
   "language": "python",
   "name": "python3"
  },
  "language_info": {
   "codemirror_mode": {
    "name": "ipython",
    "version": 3
   },
   "file_extension": ".py",
   "mimetype": "text/x-python",
   "name": "python",
   "nbconvert_exporter": "python",
   "pygments_lexer": "ipython3",
   "version": "3.11.5"
  }
 },
 "nbformat": 4,
 "nbformat_minor": 5
}
